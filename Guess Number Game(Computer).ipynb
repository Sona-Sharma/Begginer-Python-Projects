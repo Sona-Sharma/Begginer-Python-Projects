{
 "cells": [
  {
   "cell_type": "code",
   "execution_count": 6,
   "metadata": {},
   "outputs": [
    {
     "name": "stdout",
     "output_type": "stream",
     "text": [
      "Guess the number from 1 to 10 :5\n",
      "Guess is not correct,It's too low\n",
      "Guess the number from 1 to 10 :8\n",
      "Yayyyy!!!You win the game and number is 8\n"
     ]
    }
   ],
   "source": [
    "#In this game: we are going to use random function,while loops condition as well as user input.\n",
    "import random\n",
    "# define guess and assign \"x\" as variable\n",
    "def guess(x):\n",
    "    random_number=random.randint(1,x)  #define random function to get random range of numbers\n",
    "    guess=0    # intialise guess to avoid guess to get random number\n",
    "    while guess!=random_number:\n",
    "        guess=int(input(f\"Guess the number from 1 to {x} :\"))\n",
    "        if (guess<random_number):\n",
    "            print(\"Guess is not correct,It's too low\")\n",
    "        elif(guess>random_number):\n",
    "            print(\"Guess is not correct,It's too high\")\n",
    "    print (f\"Yayyyy!!!You win the game and number is {random_number}\")\n",
    "    \n",
    "    \n",
    "    \n",
    "guess(10)\n",
    "                \n",
    "                \n",
    "                "
   ]
  },
  {
   "cell_type": "code",
   "execution_count": null,
   "metadata": {},
   "outputs": [],
   "source": []
  },
  {
   "cell_type": "code",
   "execution_count": null,
   "metadata": {},
   "outputs": [],
   "source": []
  }
 ],
 "metadata": {
  "kernelspec": {
   "display_name": "Python 3",
   "language": "python",
   "name": "python3"
  },
  "language_info": {
   "codemirror_mode": {
    "name": "ipython",
    "version": 3
   },
   "file_extension": ".py",
   "mimetype": "text/x-python",
   "name": "python",
   "nbconvert_exporter": "python",
   "pygments_lexer": "ipython3",
   "version": "3.7.6"
  }
 },
 "nbformat": 4,
 "nbformat_minor": 4
}
