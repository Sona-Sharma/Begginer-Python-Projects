{
 "cells": [
  {
   "cell_type": "code",
   "execution_count": 8,
   "metadata": {},
   "outputs": [
    {
     "name": "stdout",
     "output_type": "stream",
     "text": [
      " What your choice? r for rock,s for scissor and p for paper: p\n"
     ]
    },
    {
     "data": {
      "text/plain": [
       "'you won!'"
      ]
     },
     "execution_count": 8,
     "metadata": {},
     "output_type": "execute_result"
    }
   ],
   "source": [
    "#you will work with random.choice(), if statements, and getting user input\n",
    "#This is a great project to help you build on the fundamentals like conditionals and functions\n",
    "\n",
    "import random\n",
    "\n",
    "def play():\n",
    "    user=input(\" What your choice? r for rock,s for scissor and p for paper: \")\n",
    "    computer=random.choice(['r','s','p'])\n",
    "    if user== computer:\n",
    "        return(\"tie!!!\")\n",
    "    if is_win(user,computer):\n",
    "        return \"you won!\"\n",
    "    \n",
    "    return \"you lost!\"\n",
    "\n",
    "def is_win(player,opponent):\n",
    "    #returns true if player wins\n",
    "    #r>s,s>p,p>r\n",
    "    if(player==\"r\" and opponent==\"s\") or (player==\"s\" and opponent==\"p\") or (player==\"p\" and opponent==\"r\"):\n",
    "        return True\n",
    "    \n",
    "play()\n",
    "    "
   ]
  },
  {
   "cell_type": "code",
   "execution_count": null,
   "metadata": {},
   "outputs": [],
   "source": []
  },
  {
   "cell_type": "code",
   "execution_count": null,
   "metadata": {},
   "outputs": [],
   "source": []
  }
 ],
 "metadata": {
  "kernelspec": {
   "display_name": "Python 3",
   "language": "python",
   "name": "python3"
  },
  "language_info": {
   "codemirror_mode": {
    "name": "ipython",
    "version": 3
   },
   "file_extension": ".py",
   "mimetype": "text/x-python",
   "name": "python",
   "nbconvert_exporter": "python",
   "pygments_lexer": "ipython3",
   "version": "3.7.6"
  }
 },
 "nbformat": 4,
 "nbformat_minor": 4
}
