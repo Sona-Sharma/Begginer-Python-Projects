{
 "cells": [
  {
   "cell_type": "code",
   "execution_count": 13,
   "metadata": {},
   "outputs": [
    {
     "name": "stdout",
     "output_type": "stream",
     "text": [
      "Is 3 is too high(H) or too low(L) or correct(c)L\n",
      "Is 4 is too high(H) or too low(L) or correct(c)L\n",
      "Is 8 is too high(H) or too low(L) or correct(c)H\n",
      "Is 6 is too high(H) or too low(L) or correct(c)H\n",
      "Is 5 is too high(H) or too low(L) or correct(c)c\n",
      "yayy!!!computer 5 the correct number\n"
     ]
    }
   ],
   "source": [
    "#guess number game(user)\n",
    "import random\n",
    "def computer_guess(x):\n",
    "    low=1\n",
    "    high=x\n",
    "    feedback=\" \"\n",
    "    while feedback!=\"c\":\n",
    "        if low!=high:\n",
    "            guess=random.randint(low,high)\n",
    "        else:\n",
    "            guess=low  # it could be either one of them (low =high)\n",
    "        feedback=input(f\"Is {guess} is too high(H) or too low(L) or correct(c)\")\n",
    "        if feedback == \"H\":\n",
    "            high=guess-1\n",
    "        elif feedback== \"L\":\n",
    "            low=guess+1\n",
    "            \n",
    "    print(f\"yayy!!!computer {guess} the correct number\")\n",
    "\n",
    "computer_guess(10)\n",
    "\n",
    "    "
   ]
  },
  {
   "cell_type": "code",
   "execution_count": null,
   "metadata": {},
   "outputs": [],
   "source": []
  },
  {
   "cell_type": "code",
   "execution_count": null,
   "metadata": {},
   "outputs": [],
   "source": []
  }
 ],
 "metadata": {
  "kernelspec": {
   "display_name": "Python 3",
   "language": "python",
   "name": "python3"
  },
  "language_info": {
   "codemirror_mode": {
    "name": "ipython",
    "version": 3
   },
   "file_extension": ".py",
   "mimetype": "text/x-python",
   "name": "python",
   "nbconvert_exporter": "python",
   "pygments_lexer": "ipython3",
   "version": "3.7.6"
  }
 },
 "nbformat": 4,
 "nbformat_minor": 4
}
