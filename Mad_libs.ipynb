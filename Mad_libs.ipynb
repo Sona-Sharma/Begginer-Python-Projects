{
 "cells": [
  {
   "cell_type": "code",
   "execution_count": 3,
   "metadata": {},
   "outputs": [
    {
     "name": "stdout",
     "output_type": "stream",
     "text": [
      "Name of new learner: Sonal_Sharma\n",
      "Name of new learner: Sonal_Sharma\n",
      "Name of new learner: Sonal_Sharma\n"
     ]
    }
   ],
   "source": [
    "# In madLibs\n",
    "\"\"\"You will learn how to get input from the user, work with f-strings, and see your results printed to the console\"\"\"\n",
    "\n",
    "# Different ways to cancatenate strings:For instance\n",
    "Learner=\"Sonal_Sharma\"\n",
    "#one way:string cancatenation\n",
    "print(\"Name of new learner: \"+Learner)\n",
    "# another way:string formatting\n",
    "print(\"Name of new learner: {}\".format(Learner))\n",
    "#best way:f_string\n",
    "print(f\"Name of new learner: {Learner}\")\n"
   ]
  },
  {
   "cell_type": "code",
   "execution_count": 6,
   "metadata": {},
   "outputs": [
    {
     "name": "stdout",
     "output_type": "stream",
     "text": [
      "adj:amamzing\n",
      "adj2:language\n",
      "verb:progarmming\n",
      "adj3:regularly\n",
      "Computer programming is amamzing because of that only I want to trylanguage to achieve my goals in skills analysis .Therefore,progarmming needs to be done on regularly basis.\n"
     ]
    }
   ],
   "source": [
    "#madlibs\n",
    "\n",
    "adj=input(\"adj:\")\n",
    "adj2=input(\"adj2:\")\n",
    "verb=input(\"verb:\")\n",
    "adj3=input(\"adj3:\")\n",
    "\n",
    "madlib=f\"Computer programming is {adj} because of that only I want to try{adj2} to achieve my goals in skills analysis .Therefore,{verb} needs to be done on {adj3} basis.\"\n",
    "print(madlib)"
   ]
  },
  {
   "cell_type": "code",
   "execution_count": null,
   "metadata": {},
   "outputs": [],
   "source": []
  },
  {
   "cell_type": "code",
   "execution_count": null,
   "metadata": {},
   "outputs": [],
   "source": []
  }
 ],
 "metadata": {
  "kernelspec": {
   "display_name": "Python 3",
   "language": "python",
   "name": "python3"
  },
  "language_info": {
   "codemirror_mode": {
    "name": "ipython",
    "version": 3
   },
   "file_extension": ".py",
   "mimetype": "text/x-python",
   "name": "python",
   "nbconvert_exporter": "python",
   "pygments_lexer": "ipython3",
   "version": "3.7.6"
  }
 },
 "nbformat": 4,
 "nbformat_minor": 4
}
